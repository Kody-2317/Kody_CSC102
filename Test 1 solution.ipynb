{
 "cells": [
  {
   "cell_type": "code",
   "execution_count": 1,
   "metadata": {},
   "outputs": [],
   "source": [
    "import pandas"
   ]
  },
  {
   "cell_type": "code",
   "execution_count": 6,
   "metadata": {},
   "outputs": [
    {
     "name": "stdout",
     "output_type": "stream",
     "text": [
      "80.0\n",
      "66.66666666666666\n",
      "95.0\n",
      "80.0\n",
      "62.5\n",
      "    Company  Company's Shares  Year  Percentage Leverage\n",
      "0     Enron           1000000  1987                 62.5\n",
      "1  Anderson           1500000  1936                 62.5\n",
      "2  Gk Jones          30000000  2001                 62.5\n",
      "3      Mica            250000  1996                 62.5\n",
      "4      Dune            800000  2008                 62.5\n"
     ]
    }
   ],
   "source": [
    "import pandas\n",
    "company = [\"Enron\", \"Anderson\", \"Gk Jones\", \"Mica\", \"Dune\"]\n",
    "share = [1000000, 1500000, 30000000, 250000, 800000]\n",
    "liability = [200000, 500000, 1500000, 50000, 300000]\n",
    "Date = [1987, 1936, 2001, 1996, 2008]\n",
    "\n",
    "\n",
    "for a,b in zip(share,liability):\n",
    "    c = ((a-b)/a)*100\n",
    "    print (c)\n",
    "    \n",
    "data = {\"Company\":company, \"Company's Shares\":share, \"Year\": Date, \"Percentage Leverage\": c }\n",
    "\n",
    "Data_Frame = pandas.DataFrame(data)\n",
    "Data_Frame.to_excel(\"sims.xlsx\")\n",
    "print(Data_Frame) \n",
    "\n",
    "\n"
   ]
  },
  {
   "cell_type": "code",
   "execution_count": 6,
   "metadata": {},
   "outputs": [
    {
     "name": "stdout",
     "output_type": "stream",
     "text": [
      "Amount of Data:1\n",
      "Input a name: qwerf\n",
      "Input department: qwer\n",
      "input level:100\n",
      "Input Matric_no: 100\n",
      ".........\n"
     ]
    },
    {
     "data": {
      "text/html": [
       "<div>\n",
       "<style scoped>\n",
       "    .dataframe tbody tr th:only-of-type {\n",
       "        vertical-align: middle;\n",
       "    }\n",
       "\n",
       "    .dataframe tbody tr th {\n",
       "        vertical-align: top;\n",
       "    }\n",
       "\n",
       "    .dataframe thead th {\n",
       "        text-align: right;\n",
       "    }\n",
       "</style>\n",
       "<table border=\"1\" class=\"dataframe\">\n",
       "  <thead>\n",
       "    <tr style=\"text-align: right;\">\n",
       "      <th></th>\n",
       "      <th>Name</th>\n",
       "      <th>Department</th>\n",
       "      <th>Level</th>\n",
       "      <th>MAtric Number</th>\n",
       "    </tr>\n",
       "  </thead>\n",
       "  <tbody>\n",
       "    <tr>\n",
       "      <th>0</th>\n",
       "      <td>qwerf</td>\n",
       "      <td>qwer</td>\n",
       "      <td>100</td>\n",
       "      <td>100</td>\n",
       "    </tr>\n",
       "  </tbody>\n",
       "</table>\n",
       "</div>"
      ],
      "text/plain": [
       "    Name Department  Level  MAtric Number\n",
       "0  qwerf       qwer    100            100"
      ]
     },
     "execution_count": 6,
     "metadata": {},
     "output_type": "execute_result"
    }
   ],
   "source": [
    "import pandas\n",
    "\n",
    "def sims():\n",
    "    condition = int(input(\"Amount of Data:\"))\n",
    "    names = []\n",
    "    departments = []\n",
    "    levels = []\n",
    "    matric_numbers =[]\n",
    "    \n",
    "    \n",
    "    for a in range(condition):\n",
    "        name = str(input(\"Input a name: \"))\n",
    "        names.append(name)\n",
    "        department = str(input(\"Input department: \"))\n",
    "        departments.append(department)\n",
    "        level = int(input(\"input level:\"))\n",
    "        levels.append(level)\n",
    "        matric_number = int(input(\"Input Matric_no: \"))\n",
    "        matric_numbers.append(matric_number)\n",
    "        print(\".........\")\n",
    "        \n",
    "    \n",
    "    data = {\"Name\" : names, \"Department\": departments, \"Level\": levels, \"MAtric Number\": matric_numbers }\n",
    "    \n",
    "    Data_Frame = pandas.DataFrame(data)\n",
    "    Data_Frame.to_excel(\"sims.xlsx\")\n",
    "    return Data_Frame\n",
    "\n",
    "\n",
    "\n",
    "sims()"
   ]
  },
  {
   "cell_type": "markdown",
   "metadata": {},
   "source": [
    "The global economy has over the years been affected by various scandals and market crisis, ranging from the stock market crash of 1987 to the I.T bubble of the early 2000s (famously called the dotcom bubble). Recent research has cited over-leverage which is the difference between the company’s assets and liability divided by the assets; as the major reason for some of the crisis. Researchers has also defined assets as things like the company’s shares or investments while liabilities are the company’s loans.\n",
    "\n",
    "<p>The recent financial crisis of 2020 saw companies like Enron corporation, Anderson corporation, GK Jones, Mica and Dune industries which were founded in 1987,1936,2001,1996 and 2008 respectively; all go bankrupt.\n",
    "More data are as follows:</p>\n",
    "\n",
    "<img src=\"enron.jpg\">\n"
   ]
  },
  {
   "cell_type": "markdown",
   "metadata": {},
   "source": [
    "You have been tasked to apply your algorithmic skills through python implementation in creating an excel file containing the companies, the date they were founded, their assets and liabilities as well as the various percentage leverages used by each company.\n",
    "\n",
    "​\n"
   ]
  },
  {
   "cell_type": "code",
   "execution_count": null,
   "metadata": {},
   "outputs": [],
   "source": []
  }
 ],
 "metadata": {
  "kernelspec": {
   "display_name": "Python 3",
   "language": "python",
   "name": "python3"
  },
  "language_info": {
   "codemirror_mode": {
    "name": "ipython",
    "version": 3
   },
   "file_extension": ".py",
   "mimetype": "text/x-python",
   "name": "python",
   "nbconvert_exporter": "python",
   "pygments_lexer": "ipython3",
   "version": "3.8.5"
  }
 },
 "nbformat": 4,
 "nbformat_minor": 4
}
