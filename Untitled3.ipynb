{
 "cells": [
  {
   "cell_type": "code",
   "execution_count": 1,
   "metadata": {},
   "outputs": [
    {
     "name": "stdout",
     "output_type": "stream",
     "text": [
      "Amount of Data:1\n",
      "Input a name: bayo\n",
      "Input department: comp science\n",
      "input level:100\n",
      "Input Matric_no: 2345678\n",
      ".........\n"
     ]
    },
    {
     "data": {
      "text/html": [
       "<div>\n",
       "<style scoped>\n",
       "    .dataframe tbody tr th:only-of-type {\n",
       "        vertical-align: middle;\n",
       "    }\n",
       "\n",
       "    .dataframe tbody tr th {\n",
       "        vertical-align: top;\n",
       "    }\n",
       "\n",
       "    .dataframe thead th {\n",
       "        text-align: right;\n",
       "    }\n",
       "</style>\n",
       "<table border=\"1\" class=\"dataframe\">\n",
       "  <thead>\n",
       "    <tr style=\"text-align: right;\">\n",
       "      <th></th>\n",
       "      <th>Name</th>\n",
       "      <th>Department</th>\n",
       "      <th>Level</th>\n",
       "      <th>MAtric Number</th>\n",
       "    </tr>\n",
       "  </thead>\n",
       "  <tbody>\n",
       "    <tr>\n",
       "      <th>0</th>\n",
       "      <td>bayo</td>\n",
       "      <td>comp science</td>\n",
       "      <td>100</td>\n",
       "      <td>2345678</td>\n",
       "    </tr>\n",
       "  </tbody>\n",
       "</table>\n",
       "</div>"
      ],
      "text/plain": [
       "   Name    Department  Level  MAtric Number\n",
       "0  bayo  comp science    100        2345678"
      ]
     },
     "execution_count": 1,
     "metadata": {},
     "output_type": "execute_result"
    }
   ],
   "source": [
    "import pandas\n",
    "\n",
    "def sims():\n",
    "    condition = int(input(\"Amount of Data:\"))\n",
    "    names = []\n",
    "    departments = []\n",
    "    levels = []\n",
    "    matric_numbers =[]\n",
    "    \n",
    "    \n",
    "    for a in range(condition):\n",
    "        name = str(input(\"Input a name: \"))\n",
    "        names.append(name)\n",
    "        department = str(input(\"Input department: \"))\n",
    "        departments.append(department)\n",
    "        level = int(input(\"input level:\"))\n",
    "        levels.append(level)\n",
    "        matric_number = int(input(\"Input Matric_no: \"))\n",
    "        matric_numbers.append(matric_number)\n",
    "        print(\".........\")\n",
    "        \n",
    "    \n",
    "    data = {\"Name\" : names, \"Department\": departments, \"Level\": levels, \"MAtric Number\": matric_numbers }\n",
    "    \n",
    "    Data_Frame = pandas.DataFrame(data)\n",
    "    Data_Frame.to_excel(\"sims.xlsx\")\n",
    "    return Data_Frame\n",
    "\n",
    "\n",
    "\n",
    "sims()"
   ]
  },
  {
   "cell_type": "code",
   "execution_count": null,
   "metadata": {},
   "outputs": [],
   "source": []
  }
 ],
 "metadata": {
  "kernelspec": {
   "display_name": "Python 3",
   "language": "python",
   "name": "python3"
  },
  "language_info": {
   "codemirror_mode": {
    "name": "ipython",
    "version": 3
   },
   "file_extension": ".py",
   "mimetype": "text/x-python",
   "name": "python",
   "nbconvert_exporter": "python",
   "pygments_lexer": "ipython3",
   "version": "3.8.5"
  }
 },
 "nbformat": 4,
 "nbformat_minor": 4
}
