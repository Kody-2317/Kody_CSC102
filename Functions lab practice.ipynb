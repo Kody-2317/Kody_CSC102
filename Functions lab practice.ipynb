{
 "cells": [
  {
   "cell_type": "markdown",
   "metadata": {},
   "source": [
    "\n",
    "# 1. Write a shutting down program:\n",
    "a. First, def a function, shut_down, that takes one argument from the keyboard.\n",
    "\n",
    "b. Then, if the shut_down function receives an argument equal to \"yes\", it should return \"Shutting down\".\n",
    "\n",
    "c. Alternatively, elif argument is equal to \"no\", then the function should return \"Shutdown aborted\".\n",
    "\n",
    "d. Finally, if shut_down gets anything other than those inputs, the function should return \"Sorry, such argument not welcome here \"."
   ]
  },
  {
   "cell_type": "code",
   "execution_count": 3,
   "metadata": {},
   "outputs": [
    {
     "name": "stdout",
     "output_type": "stream",
     "text": [
      "Should i shut downyes\n",
      "Shutting down.\n"
     ]
    }
   ],
   "source": [
    "def shut_down(x):\n",
    "    if \"yes\" == x:\n",
    "        return \"Shutting down.\"\n",
    "    elif \"no\" == x:\n",
    "        return \"Shutdown aborted\"\n",
    "    else:\n",
    "        return \"Sorry, such arguement not welcome here\"\n",
    "print(shut_down(input(\"Should i shut down\")))"
   ]
  },
  {
   "cell_type": "markdown",
   "metadata": {},
   "source": [
    "> 2. Create a function <span style=color:green;>**showEmployee()**</span> in such a way that it should accept a given number of employee name and salary as input, stores the data in a dictionary, and then save it into a csv file, if any of the following condition is met. <br>\n",
    ">    a. If the salary is greater than **N1,000,000** display employ name and salary in <span style=color:green;>**green color**</span>. <br>\n",
    ">    b. If the salary is greater than **N500,000** and less than N1,000,000 dispaly both employee name and salary in <span style=color:blue;>**blue color**</span>. <br>\n",
    ">    c. If the salary is less than **N500,000** dispaly both employee name and salary in red color.If the salary is missing in the function call display the message **\"Warning: No salary structure for employee\"** in <span style=color:red;>**red color**</span>."
   ]
  },
  {
   "cell_type": "code",
   "execution_count": null,
   "metadata": {},
   "outputs": [],
   "source": [
    "def showEmployee(x,y):"
   ]
  },
  {
   "cell_type": "code",
   "execution_count": null,
   "metadata": {},
   "outputs": [],
   "source": []
  },
  {
   "cell_type": "markdown",
   "metadata": {},
   "source": [
    "# 3. Follow the stpes:\n",
    "a. First, def a function called cube that takes an argument called number.\n",
    "\n",
    "b. Make that function return the cube of that number (i.e. that number multiplied by itself and multiplied by itself once again).\n",
    "\n",
    "c. Define a second function called by_three that takes an argument called number. if that number is divisible by 3, by_three should call cube(number) and return its result. Otherwise, by_three should return False. -Check if it works."
   ]
  },
  {
   "cell_type": "code",
   "execution_count": 21,
   "metadata": {},
   "outputs": [
    {
     "name": "stdout",
     "output_type": "stream",
     "text": [
      "Enter number:8\n",
      "512.0\n"
     ]
    }
   ],
   "source": [
    "def cube(number):\n",
    "    cube = number**3 \n",
    "    return cube\n",
    "\n",
    "\n",
    "print(cube(float(input(\"Enter number:\"))))"
   ]
  },
  {
   "cell_type": "code",
   "execution_count": 25,
   "metadata": {},
   "outputs": [
    {
     "name": "stdout",
     "output_type": "stream",
     "text": [
      "Enter number:9\n"
     ]
    },
    {
     "data": {
      "text/plain": [
       "729.0"
      ]
     },
     "execution_count": 25,
     "metadata": {},
     "output_type": "execute_result"
    }
   ],
   "source": [
    "def by_three(number):\n",
    "    if number % 3==0:\n",
    "         return cube(number)\n",
    "    else:\n",
    "         return False\n",
    "by_three(float(input(\"Enter number:\")))"
   ]
  },
  {
   "cell_type": "markdown",
   "metadata": {},
   "source": [
    "# 4.Write a Python function that accepts a string and calculate the number of upper case letters and lower case letters."
   ]
  },
  {
   "cell_type": "code",
   "execution_count": 33,
   "metadata": {},
   "outputs": [
    {
     "name": "stdout",
     "output_type": "stream",
     "text": [
      "Enter a stringI am A boy\n",
      "Original String :  I am A boy\n",
      "No. of Upper case characters :  2\n",
      "No. of Lower case Characters :  5\n"
     ]
    }
   ],
   "source": [
    "def string_test(s):\n",
    "    d={\"UPPER_CASE\":0, \"LOWER_CASE\":0}\n",
    "    for c in s:\n",
    "        if c.isupper():\n",
    "           d[\"UPPER_CASE\"]+=1\n",
    "        elif c.islower():\n",
    "           d[\"LOWER_CASE\"]+=1\n",
    "        else:\n",
    "           pass\n",
    "    print (\"Original String : \", s)\n",
    "    print (\"No. of Upper case characters : \", d[\"UPPER_CASE\"])\n",
    "    print (\"No. of Lower case Characters : \", d[\"LOWER_CASE\"])\n",
    "string_test(str(input(\"Enter a string\")))"
   ]
  },
  {
   "cell_type": "code",
   "execution_count": null,
   "metadata": {},
   "outputs": [],
   "source": []
  }
 ],
 "metadata": {
  "kernelspec": {
   "display_name": "Python 3",
   "language": "python",
   "name": "python3"
  },
  "language_info": {
   "codemirror_mode": {
    "name": "ipython",
    "version": 3
   },
   "file_extension": ".py",
   "mimetype": "text/x-python",
   "name": "python",
   "nbconvert_exporter": "python",
   "pygments_lexer": "ipython3",
   "version": "3.8.5"
  }
 },
 "nbformat": 4,
 "nbformat_minor": 4
}
