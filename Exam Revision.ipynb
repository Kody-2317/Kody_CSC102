{
 "cells": [
  {
   "cell_type": "code",
   "execution_count": null,
   "metadata": {},
   "outputs": [],
   "source": [
    "#for revision\n",
    "\n",
    "S = 6\n",
    "count = 1\n",
    "for x in range(1,7):\n",
    "        print(int(input(\"Enter grade\")) + x)"
   ]
  },
  {
   "cell_type": "code",
   "execution_count": null,
   "metadata": {},
   "outputs": [],
   "source": [
    "#while revision\n",
    "\n",
    "S = 6\n",
    "count = 1\n",
    "while count <= S:\n",
    "     print(int(input(\"Enter grade for subject\")) + count)\n",
    "     count = count + 1"
   ]
  },
  {
   "cell_type": "code",
   "execution_count": 4,
   "metadata": {},
   "outputs": [
    {
     "name": "stdout",
     "output_type": "stream",
     "text": [
      "450\n",
      "-500\n",
      "1500\n",
      "500\n"
     ]
    }
   ],
   "source": [
    "#Using for and while write a program to calculate the the stock difference for matthew and Jude \n",
    "\n",
    "m =[1000, 2500, 3000, 4500]\n",
    "j = [550, 3000, 1500, 4000]\n",
    "for x in range(0,4):\n",
    "    k = m[x] - j[x]\n",
    "    print(k)\n"
   ]
  },
  {
   "cell_type": "code",
   "execution_count": 2,
   "metadata": {},
   "outputs": [
    {
     "name": "stdout",
     "output_type": "stream",
     "text": [
      "450\n",
      "-500\n",
      "1500\n",
      "500\n"
     ]
    }
   ],
   "source": [
    "y = 4\n",
    "x = 0\n",
    "m =[1000, 2500, 3000, 4500]\n",
    "j = [550, 3000, 1500, 4000]\n",
    "while x <= 3:\n",
    "    print((m[x] - j[x]))\n",
    "    x = x+ 1\n",
    "    \n"
   ]
  },
  {
   "cell_type": "code",
   "execution_count": null,
   "metadata": {},
   "outputs": [],
   "source": []
  },
  {
   "cell_type": "code",
   "execution_count": null,
   "metadata": {},
   "outputs": [],
   "source": []
  }
 ],
 "metadata": {
  "kernelspec": {
   "display_name": "Python 3",
   "language": "python",
   "name": "python3"
  }
 },
 "nbformat": 4,
 "nbformat_minor": 4
}
