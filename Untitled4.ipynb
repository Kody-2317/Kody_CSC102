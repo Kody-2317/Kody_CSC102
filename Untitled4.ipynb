{
 "cells": [
  {
   "cell_type": "markdown",
   "metadata": {},
   "source": [
    "# revision"
   ]
  },
  {
   "cell_type": "code",
   "execution_count": 14,
   "metadata": {},
   "outputs": [
    {
     "name": "stdout",
     "output_type": "stream",
     "text": [
      "Jane Pick a number4\n",
      "Jack pick a number3\n",
      "Jane and Jack please open your hands in 3.....2........1\n",
      ".............\n",
      "c is an odd number\n"
     ]
    }
   ],
   "source": [
    "a = float(input(\"Jane Pick a number\"))\n",
    "b = float(input(\"Jack pick a number\"))\n",
    "\n",
    "print(\"Jane and Jack please open your hands in 3.....2........1\")\n",
    "print(\".............\")\n",
    "\n",
    "c = (a + b)\n",
    "\n",
    "if c % 2 == 0:\n",
    "    print (\"c is an even number\")\n",
    "else:\n",
    "    print (\"c is an odd number\")\n",
    "    \n",
    "for w in a\n",
    "    \n",
    "\n",
    "    \n"
   ]
  },
  {
   "cell_type": "code",
   "execution_count": 1,
   "metadata": {},
   "outputs": [
    {
     "name": "stdout",
     "output_type": "stream",
     "text": [
      "Amount of Data:1\n",
      "Input a name: qwert\n",
      "Input department: qwer\n",
      "input level:100\n",
      "Input Matric_no: 134567\n",
      ".........\n"
     ]
    },
    {
     "data": {
      "text/html": [
       "<div>\n",
       "<style scoped>\n",
       "    .dataframe tbody tr th:only-of-type {\n",
       "        vertical-align: middle;\n",
       "    }\n",
       "\n",
       "    .dataframe tbody tr th {\n",
       "        vertical-align: top;\n",
       "    }\n",
       "\n",
       "    .dataframe thead th {\n",
       "        text-align: right;\n",
       "    }\n",
       "</style>\n",
       "<table border=\"1\" class=\"dataframe\">\n",
       "  <thead>\n",
       "    <tr style=\"text-align: right;\">\n",
       "      <th></th>\n",
       "      <th>Name</th>\n",
       "      <th>Department</th>\n",
       "      <th>Level</th>\n",
       "      <th>MAtric Number</th>\n",
       "    </tr>\n",
       "  </thead>\n",
       "  <tbody>\n",
       "    <tr>\n",
       "      <th>0</th>\n",
       "      <td>qwert</td>\n",
       "      <td>qwer</td>\n",
       "      <td>100</td>\n",
       "      <td>134567</td>\n",
       "    </tr>\n",
       "  </tbody>\n",
       "</table>\n",
       "</div>"
      ],
      "text/plain": [
       "    Name Department  Level  MAtric Number\n",
       "0  qwert       qwer    100         134567"
      ]
     },
     "execution_count": 1,
     "metadata": {},
     "output_type": "execute_result"
    }
   ],
   "source": [
    "import pandas\n",
    "\n",
    "def sims():\n",
    "    condition = int(input(\"Amount of Data:\"))\n",
    "    names = []\n",
    "    departments = []\n",
    "    levels = []\n",
    "    matric_numbers =[]\n",
    "    \n",
    "    \n",
    "    for a in range(condition):\n",
    "        name = str(input(\"Input a name: \"))\n",
    "        names.append(name)\n",
    "        department = str(input(\"Input department: \"))\n",
    "        departments.append(department)\n",
    "        level = int(input(\"input level:\"))\n",
    "        levels.append(level)\n",
    "        matric_number = int(input(\"Input Matric_no: \"))\n",
    "        matric_numbers.append(matric_number)\n",
    "        print(\".........\")\n",
    "        \n",
    "    \n",
    "    data = {\"Name\" : names, \"Department\": departments, \"Level\": levels, \"MAtric Number\": matric_numbers }\n",
    "    \n",
    "    Data_Frame = pandas.DataFrame(data)\n",
    "    Data_Frame.to_excel(\"sims.xlsx\")\n",
    "    return Data_Frame\n",
    "\n",
    "\n",
    "\n",
    "sims()"
   ]
  },
  {
   "cell_type": "code",
   "execution_count": 8,
   "metadata": {},
   "outputs": [
    {
     "ename": "SyntaxError",
     "evalue": "cannot assign to operator (<ipython-input-8-39507e57c7b3>, line 1)",
     "output_type": "error",
     "traceback": [
      "\u001b[1;36m  File \u001b[1;32m\"<ipython-input-8-39507e57c7b3>\"\u001b[1;36m, line \u001b[1;32m1\u001b[0m\n\u001b[1;33m    R&Dspend = (12345, 123456, 45678543, 2345678, 12345),\u001b[0m\n\u001b[1;37m    ^\u001b[0m\n\u001b[1;31mSyntaxError\u001b[0m\u001b[1;31m:\u001b[0m cannot assign to operator\n"
     ]
    }
   ],
   "source": [
    "R&Dspend = (12345, 123456, 45678543, 2345678, 12345),\n",
    "Admin = (2562.38, 2782.27, 52682.278, 27892.28, 2782.892), \n",
    "Mark. Spend = (7363.38, 383.33, 3388.33, 38838.33, 38783.38), \n",
    "state = (\"Lagos\", \"Kano\", \"Abuja\", \"Ibadan\", \"Ogun\"),\n",
    "profit = (23456.234, 12345.234, 2345.2345, 2345.2345, 23452.2345)\n",
    "\n"
   ]
  },
  {
   "cell_type": "code",
   "execution_count": null,
   "metadata": {},
   "outputs": [],
   "source": []
  }
 ],
 "metadata": {
  "kernelspec": {
   "display_name": "Python 3",
   "language": "python",
   "name": "python3"
  },
  "language_info": {
   "codemirror_mode": {
    "name": "ipython",
    "version": 3
   },
   "file_extension": ".py",
   "mimetype": "text/x-python",
   "name": "python",
   "nbconvert_exporter": "python",
   "pygments_lexer": "ipython3",
   "version": "3.8.5"
  }
 },
 "nbformat": 4,
 "nbformat_minor": 4
}
