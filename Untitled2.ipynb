{
 "cells": [
  {
   "cell_type": "code",
   "execution_count": null,
   "metadata": {},
   "outputs": [],
   "source": [
    "#for revision\n",
    "\n",
    "S = 6\n",
    "count = 1\n",
    "for x in range(1,7):\n",
    "        print(int(input(\"Enter grade\")) + x)"
   ]
  },
  {
   "cell_type": "code",
   "execution_count": null,
   "metadata": {},
   "outputs": [],
   "source": [
    "#while revision\n",
    "\n",
    "S = 6\n",
    "count = 1\n",
    "while count <= S:\n",
    "     print(int(input(\"Enter grade for subject\")) + count)\n",
    "     count = count + 1"
   ]
  },
  {
   "cell_type": "code",
   "execution_count": null,
   "metadata": {},
   "outputs": [],
   "source": [
    "#Using for and while write a program to calculate the the stock difference for matthew and Jude \n",
    "\n",
    "matthew ={1000, 2500, 3000, 4500}\n",
    "Jude = {550, 3000, 1500, 4000}\n",
    "for x in range()"
   ]
  }
 ],
 "metadata": {
  "kernelspec": {
   "display_name": "Python 3",
   "language": "python",
   "name": "python3"
  },
  "language_info": {
   "codemirror_mode": {
    "name": "ipython",
    "version": 3
   },
   "file_extension": ".py",
   "mimetype": "text/x-python",
   "name": "python",
   "nbconvert_exporter": "python",
   "pygments_lexer": "ipython3",
   "version": "3.8.5"
  }
 },
 "nbformat": 4,
 "nbformat_minor": 4
}
