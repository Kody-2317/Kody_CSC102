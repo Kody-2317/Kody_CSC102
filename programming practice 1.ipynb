{
 "cells": [
  {
   "cell_type": "code",
   "execution_count": 3,
   "metadata": {},
   "outputs": [
    {
     "name": "stdout",
     "output_type": "stream",
     "text": [
      "Enter a number:2\n",
      "Enter a number3\n",
      "Even\n",
      "Odd\n"
     ]
    }
   ],
   "source": [
    "a= int(input(\"Enter a number:\"))\n",
    "b= int(input(\"Enter a number:\"))\n",
    "if a % 2 ==0:\n",
    "    print(\"Even\")\n",
    "else:\n",
    "    print(\"Odd\")\n",
    "if b % 2 ==0:\n",
    "      print(\"Even\")\n",
    "else:\n",
    "    print(\"Odd\")\n",
    "    "
   ]
  },
  {
   "cell_type": "code",
   "execution_count": 5,
   "metadata": {},
   "outputs": [
    {
     "name": "stdout",
     "output_type": "stream",
     "text": [
      "Enter a number:4\n",
      "Enter a number4\n",
      "a is an even number\n",
      "b is an even number\n",
      "The sum is an even number\n"
     ]
    }
   ],
   "source": [
    "a= int(input(\"Enter a number:\"))\n",
    "b= int(input(\"Enter a number\"))\n",
    "c= a+b\n",
    "if a % 2 ==0:\n",
    "    print(\"a is an even number\")\n",
    "else:\n",
    "    print(\"a is an Odd number\")\n",
    "if b % 2 ==0:\n",
    "      print(\"b is an even number\")\n",
    "else:\n",
    "    print(\"b is an Odd number\")\n",
    "if c % 2 == 0:\n",
    "     print(\"The sum is an even number\")\n",
    "else:\n",
    "    print(\"The sum is an Odd number\")"
   ]
  },
  {
   "cell_type": "markdown",
   "metadata": {},
   "source": [
    "# problem 3"
   ]
  },
  {
   "cell_type": "code",
   "execution_count": 11,
   "metadata": {},
   "outputs": [],
   "source": [
    "import pandas as pd"
   ]
  },
  {
   "cell_type": "code",
   "execution_count": 14,
   "metadata": {},
   "outputs": [
    {
     "name": "stdout",
     "output_type": "stream",
     "text": [
      "   R&D Spend  Administration  Marketing spend       State     Profit\n",
      "0       5354          7376.3         66367.56     Newyork   673660.4\n",
      "1        256          6736.3         74774.50     Florida   736730.5\n",
      "2       2662          6363.4       3767363.40  Carlifonia  7836730.7\n",
      "3       2827          3767.4          4377.50    New york  8746740.5\n",
      "4       2782          6363.4          7363.50       Texas    74640.4\n",
      "5       2772          6363.5         77474.50     Florida    78360.5\n",
      "6       2726          6363.6         73673.50  Carlifonia  7847640.4\n"
     ]
    }
   ],
   "source": [
    "data ={\"R&D Spend\": [5354, 256, 2662, 2827, 2782, 2772, 2726],\n",
    "      \"Administration\": [7376.3, 6736.3, 6363.4, 3767.4, 6363.4, 6363.5, 6363.6],\n",
    "      \"Marketing spend\": [66367.56, 74774.5, 3767363.4, 4377.5, 7363.5, 77474.5, 73673.5],\n",
    "      \"State\":[\"Newyork\",\"Florida\",\"Carlifonia\",\"New york\",\"Texas\",\"Florida\",\"Carlifonia\"],\n",
    "      \"Profit\": [673660.4, 736730.5, 7836730.7, 8746740.5, 74640.4, 78360.5, 7847640.4]}\n",
    "data=pan.DataFrame (data)\n",
    "print(data)"
   ]
  },
  {
   "cell_type": "code",
   "execution_count": 15,
   "metadata": {},
   "outputs": [],
   "source": [
    "data.to_excel('data.xlsx')"
   ]
  },
  {
   "cell_type": "markdown",
   "metadata": {},
   "source": [
    "# problem 4"
   ]
  },
  {
   "cell_type": "code",
   "execution_count": 28,
   "metadata": {},
   "outputs": [
    {
     "name": "stdout",
     "output_type": "stream",
     "text": [
      "Enter distance50\n",
      "Enter time:2\n",
      "Speed = 25.0 Miles/hour\n"
     ]
    }
   ],
   "source": [
    "d= float(input(\"Enter distance\"))\n",
    "t= float(input(\"Enter time:\"))\n",
    "s = d/t\n",
    "print(\"Speed =\", s, \"Miles/hour\")\n"
   ]
  },
  {
   "cell_type": "code",
   "execution_count": null,
   "metadata": {},
   "outputs": [],
   "source": []
  }
 ],
 "metadata": {
  "kernelspec": {
   "display_name": "Python 3",
   "language": "python",
   "name": "python3"
  },
  "language_info": {
   "codemirror_mode": {
    "name": "ipython",
    "version": 3
   },
   "file_extension": ".py",
   "mimetype": "text/x-python",
   "name": "python",
   "nbconvert_exporter": "python",
   "pygments_lexer": "ipython3",
   "version": "3.8.5"
  }
 },
 "nbformat": 4,
 "nbformat_minor": 4
}
