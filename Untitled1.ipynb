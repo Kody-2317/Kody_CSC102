{
 "cells": [
  {
   "cell_type": "code",
   "execution_count": 2,
   "metadata": {},
   "outputs": [
    {
     "name": "stdout",
     "output_type": "stream",
     "text": [
      "[15, 17, 19, 93]\n",
      "56\n"
     ]
    }
   ],
   "source": [
    "M = [[15, 17, 19, 93], [2, 89, 27], [16, 56, 67]]\n",
    "\n",
    "print (M[0])\n",
    "print (M[2][1])"
   ]
  },
  {
   "cell_type": "code",
   "execution_count": 12,
   "metadata": {},
   "outputs": [
    {
     "name": "stdout",
     "output_type": "stream",
     "text": [
      "15 17 19 93 \n",
      "2 89 27 \n",
      "16 56 67 \n",
      "16 18 27 38 \n",
      "28 38 18 \n"
     ]
    }
   ],
   "source": [
    "from array import*\n",
    "M = [[15, 17, 19, 93], [2, 89, 27], [16, 56, 67], [16, 18, 27, 38], [28, 38, 18]]\n",
    "for t in M:\n",
    "    for v in t:\n",
    "        print(v,end = \" \")\n",
    "    print ()"
   ]
  },
  {
   "cell_type": "code",
   "execution_count": 18,
   "metadata": {},
   "outputs": [
    {
     "name": "stdout",
     "output_type": "stream",
     "text": [
      "15 17 19 93 \n",
      "2 89 27 \n",
      "2 5 8 97 \n",
      "16 56 67 \n",
      "16 18 27 38 \n",
      "28 38 18 \n"
     ]
    }
   ],
   "source": [
    "from array import*\n",
    "M = [[15, 17, 19, 93], [2, 89, 27], [16, 56, 67], [16, 18, 27, 38], [28, 38, 18]]\n",
    "M.insert(2,[2,5,8,97])\n",
    "for t in M:\n",
    "    for v in t:\n",
    "        print(v,end = \" \")\n",
    "    print()"
   ]
  },
  {
   "cell_type": "code",
   "execution_count": null,
   "metadata": {},
   "outputs": [],
   "source": []
  },
  {
   "cell_type": "code",
   "execution_count": null,
   "metadata": {},
   "outputs": [],
   "source": []
  }
 ],
 "metadata": {
  "kernelspec": {
   "display_name": "Python 3",
   "language": "python",
   "name": "python3"
  },
  "language_info": {
   "codemirror_mode": {
    "name": "ipython",
    "version": 3
   },
   "file_extension": ".py",
   "mimetype": "text/x-python",
   "name": "python",
   "nbconvert_exporter": "python",
   "pygments_lexer": "ipython3",
   "version": "3.8.5"
  }
 },
 "nbformat": 4,
 "nbformat_minor": 4
}
